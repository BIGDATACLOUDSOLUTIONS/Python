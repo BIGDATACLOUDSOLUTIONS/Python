{
 "cells": [
  {
   "cell_type": "markdown",
   "id": "1d07b11a",
   "metadata": {},
   "source": [
    "## datetime.date -> This deals with date but not hrs, min and sec"
   ]
  },
  {
   "cell_type": "code",
   "execution_count": 3,
   "id": "d6c71ad0",
   "metadata": {},
   "outputs": [
    {
     "name": "stdout",
     "output_type": "stream",
     "text": [
      "2023-07-26\n"
     ]
    }
   ],
   "source": [
    "import datetime\n",
    "\n",
    "d=datetime.date(2023,7,26)\n",
    "print(d)"
   ]
  },
  {
   "cell_type": "code",
   "execution_count": 76,
   "id": "d657bb9a",
   "metadata": {},
   "outputs": [
    {
     "name": "stdout",
     "output_type": "stream",
     "text": [
      "2023-12-26\n",
      "*************\n",
      "['__add__', '__class__', '__delattr__', '__dir__', '__doc__', '__eq__', '__format__', '__ge__', '__getattribute__', '__gt__', '__hash__', '__init__', '__init_subclass__', '__le__', '__lt__', '__ne__', '__new__', '__radd__', '__reduce__', '__reduce_ex__', '__repr__', '__rsub__', '__setattr__', '__sizeof__', '__str__', '__sub__', '__subclasshook__', 'ctime', 'day', 'fromisocalendar', 'fromisoformat', 'fromordinal', 'fromtimestamp', 'isocalendar', 'isoformat', 'isoweekday', 'max', 'min', 'month', 'replace', 'resolution', 'strftime', 'timetuple', 'today', 'toordinal', 'weekday', 'year']\n",
      "*************\n",
      "2023\n",
      "26\n",
      "12\n",
      "1\n",
      "2\n"
     ]
    }
   ],
   "source": [
    "today=datetime.date.today()\n",
    "print(today)\n",
    "print('*************')\n",
    "print(dir(today))\n",
    "print('*************')\n",
    "print(today.year)\n",
    "print(today.day)\n",
    "print(today.month)\n",
    "print(today.weekday()) # Here Monday is 0, Sunday is 6\n",
    "print(today.isoweekday()) # Here Monday is 1, Sunday is 7"
   ]
  },
  {
   "cell_type": "code",
   "execution_count": 17,
   "id": "8aa61895",
   "metadata": {},
   "outputs": [
    {
     "name": "stdout",
     "output_type": "stream",
     "text": [
      "7 days, 0:00:00\n"
     ]
    }
   ],
   "source": [
    "tdelta=datetime.timedelta(days=7)\n",
    "print(tdelta)"
   ]
  },
  {
   "cell_type": "code",
   "execution_count": 21,
   "id": "def22ffd",
   "metadata": {},
   "outputs": [
    {
     "name": "stdout",
     "output_type": "stream",
     "text": [
      "today: 2023-12-26\n",
      "2024-01-02\n"
     ]
    }
   ],
   "source": [
    "# What will be date on 7th day from today\n",
    "today=datetime.date.today()\n",
    "tdelta=datetime.timedelta(days=7)\n",
    "\n",
    "print('today: '+ str(today))\n",
    "print(today+tdelta)"
   ]
  },
  {
   "cell_type": "markdown",
   "id": "320dfdff",
   "metadata": {},
   "source": [
    "**When we add/substract timedelta to a date, it gives a date**\n",
    "```\n",
    "date2= date1 + timedelta\n",
    "```"
   ]
  },
  {
   "cell_type": "code",
   "execution_count": 24,
   "id": "0a807281",
   "metadata": {},
   "outputs": [
    {
     "name": "stdout",
     "output_type": "stream",
     "text": [
      "<class 'datetime.timedelta'>\n",
      "<class 'datetime.date'>\n"
     ]
    }
   ],
   "source": [
    "tdelta=datetime.timedelta(days=7)\n",
    "print(type(tdelta))\n",
    "print(type(today+tdelta))"
   ]
  },
  {
   "cell_type": "markdown",
   "id": "e79733cc",
   "metadata": {},
   "source": [
    "**When we add/substract date with a date, it gives a timedelta**\n",
    "```\n",
    "timedelta= date1 + date2\n",
    "```"
   ]
  },
  {
   "cell_type": "code",
   "execution_count": 29,
   "id": "828b8998",
   "metadata": {},
   "outputs": [
    {
     "name": "stdout",
     "output_type": "stream",
     "text": [
      "271 days, 0:00:00\n",
      "<class 'datetime.timedelta'>\n",
      "271\n"
     ]
    }
   ],
   "source": [
    "bday=datetime.date(2024,9,22)\n",
    "till_bday=bday-today\n",
    "\n",
    "print(till_bday)\n",
    "print(type(till_bday))\n",
    "\n",
    "#dir(till_bday)\n",
    "print(till_bday.days)"
   ]
  },
  {
   "cell_type": "markdown",
   "id": "2202e800",
   "metadata": {},
   "source": [
    "## datetime.time -> This deals with hour, min, sec and milliseconds only. It doesn't include date"
   ]
  },
  {
   "cell_type": "code",
   "execution_count": 38,
   "id": "eab1ec6a",
   "metadata": {},
   "outputs": [
    {
     "name": "stdout",
     "output_type": "stream",
     "text": [
      "09:30:45.010000\n",
      "9\n",
      "30\n",
      "45\n"
     ]
    }
   ],
   "source": [
    "import datetime\n",
    "\n",
    "t=datetime.time(9,30,45, 10000)\n",
    "print(t)\n",
    "print(t.hour)\n",
    "print(t.minute)\n",
    "print(t.second)"
   ]
  },
  {
   "cell_type": "markdown",
   "id": "47d93580",
   "metadata": {},
   "source": [
    "## datetime.datetime --> This can be used to get date with time"
   ]
  },
  {
   "cell_type": "code",
   "execution_count": 45,
   "id": "dce42d15",
   "metadata": {},
   "outputs": [
    {
     "name": "stdout",
     "output_type": "stream",
     "text": [
      "2023-07-26 12:30:45.100000\n",
      "2023-07-26\n"
     ]
    }
   ],
   "source": [
    "import datetime\n",
    "\n",
    "dt=datetime.datetime(2023,7,26,12,30,45,100000)\n",
    "print(dt)\n",
    "print(df.date())"
   ]
  },
  {
   "cell_type": "code",
   "execution_count": 47,
   "id": "94135c12",
   "metadata": {},
   "outputs": [
    {
     "name": "stdout",
     "output_type": "stream",
     "text": [
      "2023-08-02 12:30:45.100000\n",
      "2023-07-27 00:30:45.100000\n"
     ]
    }
   ],
   "source": [
    "print(dt + datetime.timedelta(days=7))\n",
    "print(dt + datetime.timedelta(hours=12))"
   ]
  },
  {
   "cell_type": "markdown",
   "id": "0a4ee7ba",
   "metadata": {},
   "source": [
    "**Difference between today, now and utcnow**\n",
    "\n",
    "In Python, the datetime module provides classes for working with dates and times. The three statements you've provided involve creating instances of the datetime class, but they differ in how they handle time zones.\n",
    "\n",
    "\n",
    "```dt_today = datetime.datetime.today()```\n",
    "This returns the current local date and time as a datetime object.\n",
    "The today() method is aware of the local time zone and includes information about daylight saving time if applicable.\n",
    "It's important to note that the local time zone is dependent on the system's settings.\n",
    "\n",
    "\n",
    "```dt_now = datetime.datetime.now()```\n",
    "Similar to today(), now() returns the current local date and time as a datetime object.\n",
    "However, unlike today(), now() allows you to pass a time zone as an argument to get the current time in a specific time zone. If no time zone is provided, it behaves the same as today().\n",
    "\n",
    "\n",
    "```dt_utc_now = datetime.datetime.utcnow()```\n",
    "This returns the current UTC (Coordinated Universal Time) date and time as a datetime object.\n",
    "Unlike the previous methods, utcnow() does not include information about the local time zone. It provides the time in UTC, which is a standardized time without any time zone offsets.\n",
    "In summary:\n",
    "\n",
    "today() and now() provide local time, but now() allows for specifying a time zone.\n",
    "utcnow() provides the time in UTC without considering the local time zone."
   ]
  },
  {
   "cell_type": "code",
   "execution_count": 50,
   "id": "1ebf05fc",
   "metadata": {},
   "outputs": [
    {
     "name": "stdout",
     "output_type": "stream",
     "text": [
      "Today: 2023-12-26 16:55:54.093090\n",
      "Now: 2023-12-26 16:55:54.093090\n",
      "UTC Now: 2023-12-26 11:25:54.093090\n",
      "Now in New York time zone: 2023-12-26 06:25:54.093090-05:00\n",
      "Now in UTC time zone: 2023-12-26 11:25:54.093090+00:00\n"
     ]
    }
   ],
   "source": [
    "import datetime\n",
    "import pytz  # You may need to install the pytz module\n",
    "\n",
    "# Current local time\n",
    "dt_today = datetime.datetime.today()\n",
    "print(\"Today:\", dt_today)\n",
    "\n",
    "dt_now = datetime.datetime.now()\n",
    "print(\"Now:\", dt_now)\n",
    "\n",
    "# Current UTC time\n",
    "dt_utc_now = datetime.datetime.utcnow()\n",
    "print(\"UTC Now:\", dt_utc_now)\n",
    "\n",
    "# Specify a time zone using now()\n",
    "tz = pytz.timezone('America/New_York')\n",
    "dt_now_with_tz = datetime.datetime.now(tz)\n",
    "print(\"Now in New York time zone:\", dt_now_with_tz)\n",
    "\n",
    "# Specify a time zone using now()\n",
    "dt_now_with_utc_tz = datetime.datetime.now(tz=pytz.UTC)\n",
    "print(\"Now in UTC time zone:\", dt_now_with_utc_tz)\n",
    "\n",
    "# Another expample of using timezone\n",
    "dt=datetime.datetime(2023,7,26,12,30,45,tzinfo=pytz.UTC)\n",
    "print(dt)"
   ]
  },
  {
   "cell_type": "code",
   "execution_count": null,
   "id": "048461c4",
   "metadata": {},
   "outputs": [],
   "source": [
    "# Get list of all timezones available under pytz\n",
    "import pytz\n",
    "\n",
    "all_timezones = pytz.all_timezones\n",
    "for timezone in all_timezones:\n",
    "    print(timezone)"
   ]
  },
  {
   "cell_type": "code",
   "execution_count": 60,
   "id": "1914e077",
   "metadata": {},
   "outputs": [
    {
     "name": "stdout",
     "output_type": "stream",
     "text": [
      "UTC Time: 2023-12-26 11:25:54.093090+00:00\n",
      "IST Time: 2023-12-26 16:55:54.093090+05:30\n"
     ]
    }
   ],
   "source": [
    "# Change timezone from UTC to IST\n",
    "import pytz\n",
    "\n",
    "dt_my_time_zone=dt_now_with_utc_tz.astimezone(pytz.timezone('Asia/Kolkata'))\n",
    "print(\"UTC Time: \" + str(dt_now_with_utc_tz))\n",
    "print(\"IST Time: \" + str(dt_my_time_zone))"
   ]
  },
  {
   "cell_type": "markdown",
   "id": "38efc06c",
   "metadata": {},
   "source": [
    "### In case we have a naive datetime  and we want to make the naive datetime as timezone aware"
   ]
  },
  {
   "cell_type": "code",
   "execution_count": 67,
   "id": "01d0c922",
   "metadata": {},
   "outputs": [
    {
     "name": "stdout",
     "output_type": "stream",
     "text": [
      "Now before adding timeZone: 2023-12-26 17:13:23.662452\n",
      "Now After adding timeZone:  2023-12-26 17:13:23.662452+05:30\n"
     ]
    }
   ],
   "source": [
    "import datetime\n",
    "import pytz  # You may need to install the pytz module\n",
    "\n",
    "\n",
    "dt_now_naive = datetime.datetime.now() # Here we have not give any timezone details.\n",
    "print(\"Now before adding timeZone:\", dt_now_naive)\n",
    "\n",
    "dt_my_time_zone=dt_now_naive.astimezone(pytz.timezone('Asia/Kolkata'))\n",
    "print(\"Now After adding timeZone: \", dt_my_time_zone)"
   ]
  },
  {
   "cell_type": "markdown",
   "id": "b666dac4",
   "metadata": {},
   "source": [
    "## Date formatting\n",
    "**Refer Doc: https://docs.python.org/3/library/datetime.html**"
   ]
  },
  {
   "cell_type": "code",
   "execution_count": 74,
   "id": "25ecdbec",
   "metadata": {},
   "outputs": [
    {
     "name": "stdout",
     "output_type": "stream",
     "text": [
      "2023-12-26 17:44:19.268475+05:30\n",
      "December 26 2023\n",
      "December 26 2023 Tuesday\n",
      "<class 'str'>\n"
     ]
    }
   ],
   "source": [
    "# Convert datetime to string format\n",
    "# strftime --> Datetime to string\n",
    "\n",
    "import datetime\n",
    "import pytz\n",
    "\n",
    "dt_my_time_zone=datetime.datetime.now(pytz.timezone('Asia/Kolkata'))\n",
    "print(dt_my_time_zone)\n",
    "\n",
    "print(dt_my_time_zone.strftime('%B %d %Y'))\n",
    "print(dt_my_time_zone.strftime('%B %d %Y %A'))\n",
    "\n",
    "print(type(dt_my_time_zone.strftime('%B %d %Y')))"
   ]
  },
  {
   "cell_type": "code",
   "execution_count": 75,
   "id": "66ba4978",
   "metadata": {},
   "outputs": [
    {
     "name": "stdout",
     "output_type": "stream",
     "text": [
      "2023-12-26 00:00:00\n",
      "<class 'datetime.datetime'>\n"
     ]
    }
   ],
   "source": [
    "# Convert string to datetime\n",
    "# strptime --> String to datetime\n",
    "\n",
    "import datetime\n",
    "\n",
    "dt_str='December 26 2023'\n",
    "\n",
    "dt= datetime.datetime.strptime(dt_str,'%B %d %Y')\n",
    "print(dt)\n",
    "\n",
    "print(type(dt))\n"
   ]
  },
  {
   "cell_type": "code",
   "execution_count": null,
   "id": "df305178",
   "metadata": {},
   "outputs": [],
   "source": []
  }
 ],
 "metadata": {
  "kernelspec": {
   "display_name": "Python 3 (ipykernel)",
   "language": "python",
   "name": "python3"
  },
  "language_info": {
   "codemirror_mode": {
    "name": "ipython",
    "version": 3
   },
   "file_extension": ".py",
   "mimetype": "text/x-python",
   "name": "python",
   "nbconvert_exporter": "python",
   "pygments_lexer": "ipython3",
   "version": "3.10.9"
  }
 },
 "nbformat": 4,
 "nbformat_minor": 5
}
